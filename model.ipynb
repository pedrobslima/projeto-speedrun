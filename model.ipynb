{
  "cells": [
    {
      "cell_type": "code",
      "execution_count": null,
      "metadata": {
        "colab": {
          "base_uri": "https://localhost:8080/"
        },
        "id": "eeBxREDeDaVt",
        "outputId": "e0fc9365-21fe-48a8-d935-1a8fee7be34d"
      },
      "outputs": [
        {
          "name": "stdout",
          "output_type": "stream",
          "text": [
            "Mounted at /content/drive\n"
          ]
        }
      ],
      "source": [
        "from google.colab import drive\n",
        "drive.mount('/content/drive')"
      ]
    },
    {
      "cell_type": "code",
      "execution_count": null,
      "metadata": {
        "id": "9KhgGrU2Zc5n"
      },
      "outputs": [],
      "source": [
        "import pandas as pd\n",
        "import torch\n",
        "import torch.nn as nn\n",
        "import torch.optim as optim\n",
        "from torch.utils.data import Dataset, DataLoader\n",
        "from sklearn.model_selection import train_test_split\n",
        "import numpy as np\n",
        "import matplotlib.pyplot as plt\n",
        "from PIL import Image\n",
        "import torchvision.transforms as transforms\n",
        "import os\n",
        "# from tutorial:\n",
        "import torchvision\n",
        "from torch.utils.mobile_optimizer import optimize_for_mobile"
      ]
    },
    {
      "cell_type": "code",
      "execution_count": null,
      "metadata": {
        "id": "zwFE5K2yAfEw"
      },
      "outputs": [],
      "source": [
        "#'/content/drive/MyDrive/projeto-dl/Dataset_BUSI_with_GT/benign/'\n",
        "#'/content/drive/MyDrive/projeto-dl/Dataset_BUSI_with_GT/malignant'\n",
        "#'/content/drive/MyDrive/projeto-dl/Dataset_BUSI_with_GT/normal'"
      ]
    },
    {
      "cell_type": "markdown",
      "metadata": {},
      "source": [
        "Versão tutorial:"
      ]
    },
    {
      "cell_type": "code",
      "execution_count": null,
      "metadata": {},
      "outputs": [],
      "source": [
        "# From tutorial:\n",
        "model = torchvision.models.mobilenet_v2(pretrained=True)\n",
        "model.eval()\n",
        "example = torch.rand(1, 3, 224, 224)\n",
        "traced_script_module = torch.jit.trace(model, example)\n",
        "traced_script_module_optimized = optimize_for_mobile(traced_script_module)\n",
        "traced_script_module_optimized._save_for_life_interpreter(\"model.ptl\")"
      ]
    },
    {
      "cell_type": "markdown",
      "metadata": {},
      "source": [
        "Minha adaptação:"
      ]
    },
    {
      "cell_type": "code",
      "execution_count": null,
      "metadata": {
        "id": "GLbhDqTRiRzl"
      },
      "outputs": [],
      "source": [
        "# Para executar com a GPU:\n",
        "#DEVICE = \"cuda\" if torch.cuda.is_available() else \"cpu\""
      ]
    },
    {
      "cell_type": "code",
      "execution_count": null,
      "metadata": {},
      "outputs": [],
      "source": [
        "model = torchvision.models.mobilenet7(pretrained=False) # uso uma pré-treinada ou não?"
      ]
    },
    {
      "cell_type": "code",
      "execution_count": null,
      "metadata": {
        "id": "_XSqhry-ltlw"
      },
      "outputs": [],
      "source": [
        "class ImgDataset(Dataset):\n",
        "    def __init__(self, dataframe):\n",
        "        self.data = dataframe\n",
        "        self.transform = transforms.Compose([\n",
        "          # talvez devesse cortar como o livro sugere, mas tem segmentações grandes demais pra qualquer tipo de corte, ent vou dxar assim por enquanto\n",
        "          transforms.Resize([256, 256]), # De acordo com a descrição do dataset, a média de tamanho das imagens é 500x500\n",
        "          transforms.ToTensor(),\n",
        "        ])\n",
        "\n",
        "    def __len__(self):\n",
        "        return len(self.data)\n",
        "\n",
        "    def __getitem__(self, idx):\n",
        "        image_path = self.data.iloc[idx]['image_path']\n",
        "        mask_path = self.data.iloc[idx]['mask_path']\n",
        "\n",
        "        image = Image.open(image_path).convert('L')\n",
        "        mask = Image.open(mask_path).convert('L')\n",
        "\n",
        "        return self.transform(image), self.transform(mask)"
      ]
    }
  ],
  "metadata": {
    "colab": {
      "provenance": []
    },
    "kernelspec": {
      "display_name": "Python 3",
      "name": "python3"
    },
    "language_info": {
      "name": "python",
      "version": "3.10.13"
    }
  },
  "nbformat": 4,
  "nbformat_minor": 0
}
